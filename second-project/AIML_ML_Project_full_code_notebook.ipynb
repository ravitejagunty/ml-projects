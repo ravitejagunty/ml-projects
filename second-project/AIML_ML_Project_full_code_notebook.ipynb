{
  "cells": [
    {
      "cell_type": "markdown",
      "metadata": {
        "id": "dHp26RRERvXx"
      },
      "source": [
        "## Problem Statement"
      ]
    },
    {
      "cell_type": "markdown",
      "metadata": {
        "id": "m5MpauhvxIh6"
      },
      "source": [
        "### Context\n",
        "\n",
        "AllLife Bank is a US bank that has a growing customer base. The majority of these customers are liability customers (depositors) with varying sizes of deposits. The number of customers who are also borrowers (asset customers) is quite small, and the bank is interested in expanding this base rapidly to bring in more loan business and in the process, earn more through the interest on loans. In particular, the management wants to explore ways of converting its liability customers to personal loan customers (while retaining them as depositors).\n",
        "\n",
        "A campaign that the bank ran last year for liability customers showed a healthy conversion rate of over 9% success. This has encouraged the retail marketing department to devise campaigns with better target marketing to increase the success ratio.\n",
        "\n",
        "You as a Data scientist at AllLife bank have to build a model that will help the marketing department to identify the potential customers who have a higher probability of purchasing the loan."
      ]
    },
    {
      "cell_type": "markdown",
      "metadata": {
        "id": "s4T59mPjxMmc"
      },
      "source": [
        "### Objective\n",
        "\n",
        "To predict whether a liability customer will buy personal loans, to understand which customer attributes are most significant in driving purchases, and identify which segment of customers to target more."
      ]
    },
    {
      "cell_type": "markdown",
      "metadata": {
        "id": "FN8fKs4_xPLS"
      },
      "source": [
        "### Data Dictionary\n",
        "* `ID`: Customer ID\n",
        "* `Age`: Customer’s age in completed years\n",
        "* `Experience`: #years of professional experience\n",
        "* `Income`: Annual income of the customer (in thousand dollars)\n",
        "* `ZIP Code`: Home Address ZIP code.\n",
        "* `Family`: the Family size of the customer\n",
        "* `CCAvg`: Average spending on credit cards per month (in thousand dollars)\n",
        "* `Education`: Education Level. 1: Undergrad; 2: Graduate;3: Advanced/Professional\n",
        "* `Mortgage`: Value of house mortgage if any. (in thousand dollars)\n",
        "* `Personal_Loan`: Did this customer accept the personal loan offered in the last campaign? (0: No, 1: Yes)\n",
        "* `Securities_Account`: Does the customer have securities account with the bank? (0: No, 1: Yes)\n",
        "* `CD_Account`: Does the customer have a certificate of deposit (CD) account with the bank? (0: No, 1: Yes)\n",
        "* `Online`: Do customers use internet banking facilities? (0: No, 1: Yes)\n",
        "* `CreditCard`: Does the customer use a credit card issued by any other Bank (excluding All life Bank)? (0: No, 1: Yes)"
      ]
    },
    {
      "cell_type": "markdown",
      "metadata": {
        "id": "CP-77n_lxyBt"
      },
      "source": [
        "## Importing necessary libraries"
      ]
    },
    {
      "cell_type": "code",
      "execution_count": null,
      "metadata": {
        "id": "ryFwv2fwXqBw"
      },
      "outputs": [],
      "source": [
        "# Installing the libraries with the specified version.\n",
        "!pip3 install numpy==1.25.2 pandas==1.5.3 matplotlib==3.7.1 seaborn==0.13.1 scikit-learn==1.2.2 sklearn-pandas==2.2.0 -q --user"
      ]
    },
    {
      "cell_type": "markdown",
      "metadata": {
        "id": "Id5iPySmwVCi"
      },
      "source": [
        "**Note**:\n",
        "\n",
        "1. After running the above cell, kindly restart the notebook kernel (for Jupyter Notebook) or runtime (for Google Colab), write the relevant code for the project from the next cell, and run all cells sequentially from the next cell.\n",
        "\n",
        "2. On executing the above line of code, you might see a warning regarding package dependencies. This error message can be ignored as the above code ensures that all necessary libraries and their dependencies are maintained to successfully execute the code in this notebook."
      ]
    },
    {
      "cell_type": "code",
      "execution_count": 3,
      "metadata": {
        "id": "O36RnISpw679"
      },
      "outputs": [],
      "source": [
        "# import libraries for data manipulation\n",
        "import numpy as np\n",
        "import pandas as pd\n",
        "\n",
        "# import libraries for data visualization\n",
        "import matplotlib.pyplot as plt\n",
        "import seaborn as sns\n",
        "\n",
        "# Importing scikit-learn\n",
        "from sklearn.model_selection import train_test_split\n",
        "from sklearn.preprocessing import StandardScaler\n",
        "from sklearn.ensemble import RandomForestClassifier  # Example for classifier\n"
      ]
    },
    {
      "cell_type": "markdown",
      "metadata": {
        "id": "D0cilOy9yeK7"
      },
      "source": [
        "## Loading the dataset"
      ]
    },
    {
      "cell_type": "code",
      "execution_count": null,
      "metadata": {
        "id": "veW9EM12yd5M"
      },
      "outputs": [],
      "source": [
        "data = pd.read_csv('Loan_Modelling.csv');\n",
        "data.head()"
      ]
    },
    {
      "cell_type": "markdown",
      "metadata": {
        "id": "vUbDMkrLQb8U"
      },
      "source": [
        "## Data Overview"
      ]
    },
    {
      "cell_type": "markdown",
      "metadata": {
        "id": "yPQbY4cIQaK4"
      },
      "source": [
        "* Observations\n",
        "* Sanity checks"
      ]
    },
    {
      "cell_type": "code",
      "execution_count": null,
      "metadata": {
        "id": "EKrLdS4fZmpk"
      },
      "outputs": [],
      "source": [
        "df = data.copy()\n",
        "print(f\"shape of data: {data.shape}\")\n",
        "print(f\"{data.info()}\")\n",
        "print(f\"data description:{data.describe().T}\" )\n",
        "if(data.isnull().sum().sum() == 0):\n",
        "    print(f\"There are no null values in the provide data\" )\n",
        "else:\n",
        "    print(f\"There are {data.isnull().sum().sum()} null value in data\")\n"
      ]
    },
    {
      "cell_type": "markdown",
      "metadata": {
        "id": "9KgxRHBOy6fn"
      },
      "source": [
        "## Exploratory Data Analysis."
      ]
    },
    {
      "cell_type": "markdown",
      "metadata": {
        "id": "5w7PtDMazCRh"
      },
      "source": [
        "- EDA is an important part of any project involving data.\n",
        "- It is important to investigate and understand the data better before building a model with it.\n",
        "- A few questions have been mentioned below which will help you approach the analysis in the right manner and generate insights from the data.\n",
        "- A thorough analysis of the data, in addition to the questions mentioned below, should be done."
      ]
    },
    {
      "cell_type": "markdown",
      "metadata": {
        "id": "CjVNBJWozGSA"
      },
      "source": [
        "**Questions**:\n",
        "\n",
        "1. What is the distribution of mortgage attribute? Are there any noticeable patterns or outliers in the distribution?\n",
        "2. How many customers have credit cards?\n",
        "3. What are the attributes that have a strong correlation with the target attribute (personal loan)?\n",
        "4. How does a customer's interest in purchasing a loan vary with their age?\n",
        "5. How does a customer's interest in purchasing a loan vary with their education?"
      ]
    },
    {
      "cell_type": "code",
      "execution_count": null,
      "metadata": {
        "id": "KY7_qg7Cymt2"
      },
      "outputs": [],
      "source": [
        "#1\n",
        "print(f\"*** What is the distribution of mortgage attribute? Are there any noticeable patterns or outliers in the distribution? ***\")\n",
        "mortgage_dist = df['Mortgage']\n",
        "plt.figure(figsize=(10,8))\n",
        "sns.histplot(data=df, x=mortgage_dist)\n",
        "plt.figure(figsize=(10,8))\n",
        "sns.boxplot(data=df, x=mortgage_dist)\n",
        "mortgage_dist_atzero = mortgage_dist[mortgage_dist == 0]\n",
        "print(f\"a. There are {mortgage_dist_atzero.shape[0]} customers that have no mortgage or the mortgage at 0 leading most of the data to be present at the first quartile\")\n",
        "mortgage_dist_outliers = mortgage_dist[mortgage_dist > 250]\n",
        "print(f\"b. There are about {mortgage_dist_outliers.shape[0]} outliers in mortgage out of {mortgage_dist.shape[0]} rows leading to approximately {(mortgage_dist_outliers.shape[0]/mortgage_dist.shape[0]) * 100:.2f}% of outliers in overall data\")\n",
        "print(f\"c. Mortgage is right skewed\")"
      ]
    },
    {
      "cell_type": "code",
      "execution_count": null,
      "metadata": {},
      "outputs": [],
      "source": [
        "#2\n",
        "customers = df['ID'].unique().shape[0]\n",
        "customers\n",
        "print(f\"*** How many customers have credit cards? ***\")\n",
        "print(f\"a. All the {df.shape[0]} customers are unique\")\n",
        "customers_with_cc = df[df['CreditCard'] == 1].shape[0]\n",
        "print(f\"b. There are {customers_with_cc} customer with credit card\")\n"
      ]
    },
    {
      "cell_type": "code",
      "execution_count": null,
      "metadata": {},
      "outputs": [],
      "source": [
        "#3\n",
        "print(f\"***What are the attributes that have a strong correlation with the target attribute (personal loan)?***\")\n",
        "plt.figure(figsize=(10,8))\n",
        "sns.heatmap(data=df.corr(),cbar=False,fmt='.2f',cmap='Spectral',vmin=-1,vmax=1,annot=True)\n",
        "print(f\"a. Personal_Loan have strong positive co-relation with Income, CCAvg and CD_Account at {df['Personal_Loan'].corr(df['Income']):.2f},{df['Personal_Loan'].corr(df['CCAvg']):.2f} and {df['Personal_Loan'].corr(df['CD_Account']):.2f} respectively\")\n"
      ]
    },
    {
      "cell_type": "code",
      "execution_count": null,
      "metadata": {},
      "outputs": [],
      "source": [
        "#4\n",
        "print(f\"***How does a customer's interest in purchasing a loan vary with their age?***\")\n",
        "print(f\"a. From the heatmap we could already say that age and personal loan doesn't exhibit a great corelation\")\n",
        "plt.figure(figsize=(10,8))\n",
        "sns.scatterplot(x=df['Personal_Loan'],y=df['Age'])\n",
        "print(\"b. Customers at all ages have interest in buying personal loans\")"
      ]
    },
    {
      "cell_type": "code",
      "execution_count": null,
      "metadata": {},
      "outputs": [],
      "source": [
        "\n",
        "#5\n",
        "print(f\"***How does a customer's interest in purchasing a loan vary with their education?***\")\n",
        "print(f\"a. Education vs Personal loan\")\n",
        "for i in range(1,4):\n",
        "    print(f\"{i}. Education with value {i}: {(df[(df['Education'] == i) & (df['Personal_Loan'] == 1)]).shape[0]} of {df[df['Education'] == i].shape[0]} have accepted personal loan\")\n",
        "print(f\"b. Customers who have Advanced/Professional education are higher probable of accepting the personal loan\")"
      ]
    },
    {
      "cell_type": "code",
      "execution_count": null,
      "metadata": {},
      "outputs": [],
      "source": [
        "#6\n",
        "print(f\"***How does a customer's interest in purchasing a loan vary with their Income?***\")\n",
        "pl_vs_income = df[df['Personal_Loan'] == 1]\n",
        "print(f\"a. The lowest income where the customer accepted the loan is {pl_vs_income['Income'].min()}k which indicates that customers with income less than 60k have no interest in accepting personal loans\")\n",
        "print(f\"b. Average income of the customer who accepted personal loan is {pl_vs_income['Income'].describe().T['mean']:.2f}k\")\n",
        "# Scatter Plot using Seaborn\n",
        "plt.figure(figsize=(10,8))\n",
        "sns.scatterplot(data=df, x='Income', y='Personal_Loan', hue='Personal_Loan', palette={1: 'blue', 0: 'red'})\n",
        "\n",
        "# Labels and Title\n",
        "plt.xlabel('Income')\n",
        "plt.ylabel('Loan Status')\n",
        "plt.title('Income vs Loan Status')\n",
        "plt.show()"
      ]
    },
    {
      "cell_type": "code",
      "execution_count": null,
      "metadata": {},
      "outputs": [],
      "source": [
        "#7\n",
        "print(f\"***How does a customer's interest in purchasing a loan vary with their CCAvg?***\")\n",
        "pl_vs_ccavg = df[df['Personal_Loan'] == 1]\n",
        "print(f\"b. Customers who accepted personal loan have an average credit card amount of {pl_vs_ccavg['CCAvg'].describe().T['mean']:.2f}k\")\n",
        "# Scatter Plot using Seaborn\n",
        "plt.figure(figsize=(10,8))\n",
        "sns.scatterplot(data=df, x='CCAvg', y='Personal_Loan', hue='Personal_Loan', palette={1: 'blue', 0: 'red'})\n",
        "\n",
        "# Labels and Title\n",
        "plt.xlabel('CCAvg')\n",
        "plt.ylabel('Loan Status')\n",
        "plt.title('CCAvg vs Loan Status')\n",
        "plt.show()"
      ]
    },
    {
      "cell_type": "markdown",
      "metadata": {
        "id": "ZCM6avoA39FB"
      },
      "source": [
        "## Data Preprocessing"
      ]
    },
    {
      "cell_type": "markdown",
      "metadata": {
        "id": "GxmVZXfCfNnc"
      },
      "source": [
        "* Missing value treatment\n",
        "* Feature engineering (if needed)\n",
        "* Outlier detection and treatment (if needed)\n",
        "* Preparing data for modeling\n",
        "* Any other preprocessing steps (if needed)"
      ]
    },
    {
      "cell_type": "code",
      "execution_count": null,
      "metadata": {
        "id": "q6D5tdDiymfd"
      },
      "outputs": [],
      "source": [
        "#Missing value treatment\n",
        "print(f\"There are {df.isnull().sum().sum()} null values in the provided data\")\n",
        "print(f\"{df.nunique()}\")\n",
        "#dropping ID column as there there are 5000 unique values with in 5000 rows\n",
        "df = df.drop(columns=['ID'])"
      ]
    },
    {
      "cell_type": "code",
      "execution_count": null,
      "metadata": {},
      "outputs": [],
      "source": [
        "#Feature engineering\n",
        "#checking if zipcode or area customers live in affecting the acceptance of loan due to other parameters outside the provided data\n",
        "print(f\"{df['ZIPCode'].nunique()}\")\n",
        "#corelation between zipcode and personal loan\n",
        "print(f\"correaltion between personal loan and ZIPCode{df['Personal_Loan'].corr(df['ZIPCode']):.2f}\")\n",
        "#Dropping the column zipcode as the corelation is too low for this feature to be considered\n",
        "df = df.drop(columns=['ZIPCode'])"
      ]
    },
    {
      "cell_type": "code",
      "execution_count": null,
      "metadata": {},
      "outputs": [],
      "source": [
        "#Column Expereince have high corelation with Age which directly related to the redundancy, dropping the column experience as well\n",
        "df = df.drop(columns=['Experience'])"
      ]
    },
    {
      "cell_type": "code",
      "execution_count": 128,
      "metadata": {},
      "outputs": [
        {
          "name": "stdout",
          "output_type": "stream",
          "text": [
            "X_train shape: (4000, 10)\n",
            "X_test shape: (1000, 10)\n",
            "y_train shape: (4000,)\n",
            "y_test shape: (1000,)\n"
          ]
        }
      ],
      "source": [
        "#Data prepeation for model\n",
        "\n",
        "# Define features (X) and target (y)\n",
        "X = df.drop(columns=['Personal_Loan'])  # Drop the target column\n",
        "y = df['Personal_Loan']                 # Target column\n",
        "\n",
        "# Split data into training and testing sets\n",
        "X_train, X_test, y_train, y_test = train_test_split(X, y, test_size=0.2, random_state=42)\n",
        "\n",
        "# Print the shapes of the resulting splits\n",
        "print(\"X_train shape:\", X_train.shape)\n",
        "print(\"X_test shape:\", X_test.shape)\n",
        "print(\"y_train shape:\", y_train.shape)\n",
        "print(\"y_test shape:\", y_test.shape)"
      ]
    },
    {
      "cell_type": "markdown",
      "metadata": {},
      "source": []
    },
    {
      "cell_type": "markdown",
      "metadata": {
        "id": "f4lwYN5bYmHp"
      },
      "source": [
        "## Model Building"
      ]
    },
    {
      "cell_type": "markdown",
      "metadata": {
        "id": "I8KXyX2cYnxg"
      },
      "source": [
        "### Model Evaluation Criterion"
      ]
    },
    {
      "cell_type": "markdown",
      "metadata": {
        "id": "s9-hADbhYrdc"
      },
      "source": [
        "*\n"
      ]
    },
    {
      "cell_type": "markdown",
      "metadata": {
        "id": "n0zOSq9mieSG"
      },
      "source": [
        "### Model Building"
      ]
    },
    {
      "cell_type": "code",
      "execution_count": null,
      "metadata": {
        "id": "N5-9mneBiVE8"
      },
      "outputs": [
        {
          "name": "stdout",
          "output_type": "stream",
          "text": [
            "              Feature  Importance\n",
            "6  Securities_Account    0.004262\n",
            "8              Online    0.007173\n",
            "9          CreditCard    0.008936\n",
            "5            Mortgage    0.033078\n",
            "0                 Age    0.046849\n",
            "7          CD_Account    0.052056\n",
            "2              Family    0.117618\n",
            "3               CCAvg    0.164211\n",
            "4           Education    0.222913\n",
            "1              Income    0.342904\n"
          ]
        }
      ],
      "source": [
        "#checking existing feature rankings for further fine tuning.\n",
        "model = RandomForestClassifier()\n",
        "model.fit(X, y)\n",
        "feature_importances = model.feature_importances_\n",
        "\n",
        "#DataFrame to display features with their importance\n",
        "importance_df = pd.DataFrame({\n",
        "    'Feature': X.columns,\n",
        "    'Importance': feature_importances\n",
        "})\n",
        "\n",
        "# Sorting by importance\n",
        "importance_df = importance_df.sort_values(by='Importance', ascending=True)\n",
        "\n",
        "# Display least important features\n",
        "print(importance_df)\n",
        "\n",
        "\n"
      ]
    },
    {
      "cell_type": "markdown",
      "metadata": {
        "id": "tOOFfQIWh3_G"
      },
      "source": [
        "## Model Performance Improvement"
      ]
    },
    {
      "cell_type": "code",
      "execution_count": null,
      "metadata": {
        "id": "D4H3HH5zh4dG"
      },
      "outputs": [],
      "source": []
    },
    {
      "cell_type": "markdown",
      "metadata": {
        "id": "36XMQ7JKjFyx"
      },
      "source": [
        "## Model Performance Comparison and Final Model Selection"
      ]
    },
    {
      "cell_type": "code",
      "execution_count": null,
      "metadata": {
        "id": "jvq640U7kWZF"
      },
      "outputs": [],
      "source": []
    },
    {
      "cell_type": "markdown",
      "metadata": {
        "id": "vb-iuMZQkcDL"
      },
      "source": [
        "## Actionable Insights and Business Recommendations\n"
      ]
    },
    {
      "cell_type": "markdown",
      "metadata": {
        "id": "H_-eZCetiDXK"
      },
      "source": [
        "* What recommedations would you suggest to the bank?"
      ]
    },
    {
      "cell_type": "markdown",
      "metadata": {
        "id": "vX7N2zFwS1nV"
      },
      "source": [
        "___"
      ]
    }
  ],
  "metadata": {
    "colab": {
      "collapsed_sections": [
        "dHp26RRERvXx",
        "CP-77n_lxyBt",
        "D0cilOy9yeK7",
        "vUbDMkrLQb8U",
        "9KgxRHBOy6fn",
        "ZCM6avoA39FB",
        "f4lwYN5bYmHp",
        "I8KXyX2cYnxg",
        "n0zOSq9mieSG",
        "tOOFfQIWh3_G",
        "36XMQ7JKjFyx",
        "vb-iuMZQkcDL"
      ],
      "provenance": []
    },
    "kernelspec": {
      "display_name": "base",
      "language": "python",
      "name": "python3"
    },
    "language_info": {
      "codemirror_mode": {
        "name": "ipython",
        "version": 3
      },
      "file_extension": ".py",
      "mimetype": "text/x-python",
      "name": "python",
      "nbconvert_exporter": "python",
      "pygments_lexer": "ipython3",
      "version": "3.12.4"
    }
  },
  "nbformat": 4,
  "nbformat_minor": 0
}
